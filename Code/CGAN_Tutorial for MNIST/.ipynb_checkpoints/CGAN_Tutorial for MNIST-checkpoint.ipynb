{
 "cells": [
  {
   "cell_type": "code",
   "execution_count": null,
   "metadata": {},
   "outputs": [],
   "source": [
    "%matplotlib inline\n",
    "\n",
    "import matplotlib.pyplot as plt\n",
    "import numpy as np\n",
    "\n",
    "from tensorflow.keras.datasets import mnists\n",
    "from tensorflow.keras.layers import Activation, BatchNormalization, Cocatenate, Dense, Embedding, Flatten, Input, Multiply, Reshape, LeakyReLU, Conv2D, Conv2DTranspose\n",
    "from tensorflow.keras.models import Model, Sequential\n",
    "from tensorflow.keras.optimizers import Adam"
   ]
  },
  {
   "cell_type": "code",
   "execution_count": null,
   "metadata": {},
   "outputs": [],
   "source": [
    "img_rows = 28\n",
    "img_cols = 28\n",
    "channels = 1\n",
    "\n",
    "# 입력 이미지\n",
    "img_shape = (img_rows, img_cols, channels)\n",
    "\n",
    "# 생성자 입력으로 사용될 랜덤 잡음 벡터 크기\n",
    "z_dim = 100\n",
    "\n",
    "# MNIST 데이터셋에 있는 클래스 개수\n",
    "num_classes = 10"
   ]
  },
  {
   "cell_type": "markdown",
   "metadata": {},
   "source": [
    "# Generator(G)"
   ]
  },
  {
   "cell_type": "code",
   "execution_count": null,
   "metadata": {},
   "outputs": [],
   "source": [
    "def build_generator(z_dim):\n",
    "    \n",
    "    model = Sequential()\n",
    "    \n",
    "    # FC-layers 사용해서 입력을 7 x 7 x 256 텐서로 변환\n",
    "    model.add(Dense(256*7*7, input_dim=z_dim))\n",
    "    model.add(Reshape((7,7,256)))\n",
    "    \n",
    "    # 7 x 7 x 256 에서 14 x 14 x 128 텐서로 바꾸는 전치 합성곱\n",
    "    model.add(Conv2DTranspose(128, kernel_size=3, strides=2, padding='same'))\n",
    "    # 배치 정규화\n",
    "    model.add(BatchNormalization())\n",
    "    # LeakyReLU 활성화\n",
    "    model.add(LeakyReLU(alpha=0.01))\n",
    "    \n",
    "    # 14 x 14 x 128 에서 14 x 14 x 64 텐서로 바꾸는 전치 합성곱\n",
    "    model.add(Conv2DTranspose(64, kernel_size=3, strides=1, padding='same'))\n",
    "    # 배치 정규화\n",
    "    model.add(BatchNormalization())\n",
    "    # LeakyReLU 활성화\n",
    "    model.add(LeakyReLU(alpha=0.01))\n",
    "\n",
    "    # 14 x 14 x 64 에서 28 x 28 x 1 텐서로 바꾸는 전치 합성곱\n",
    "    model.add(Conv2DTranspose(1, kernel_size=3, strides=2, padding='same'))\n",
    "    \n",
    "    # tanh 활성화 함수\n",
    "    model.add(Activation('tanh'))\n",
    "    \n",
    "    return model"
   ]
  },
  {
   "cell_type": "code",
   "execution_count": null,
   "metadata": {},
   "outputs": [],
   "source": [
    "def build_cgan_generator(z_dim):\n",
    "    \n",
    "    # 랜덤 잡음 벡터 z\n",
    "    z = Input(shape=(z_dim,))\n",
    "    \n",
    "    # 조건(conditional) 레이블: 정수 0-9 까지 생성자가 만들 숫자\n",
    "    label = Input(shape=(1,), dtype='int32')\n",
    "    \n",
    "    # 레이블 임베딩: 레이블을 z_dim 크기 밀집 벡터로 변환하고, (batch_size, 1, z_dim) 크기 3D 텐서를 만든다.\n",
    "    label_embedding = Embedding(num_classes, z_dim, input_length=1)(label)\n",
    "    \n",
    "    # 임베딩된 3D 텐서를 펼쳐서 (batch_szie, z_dim) 크기 2D 텐서로 바꿈\n",
    "    label_embedding = Flatten()(label_embedding)\n",
    "    \n",
    "    # 벡터 z와 레이블 임베딩의 원소별 곱셈\n",
    "    joined_representation = Multiply()([z, label_embedding])\n",
    "    \n",
    "    generator = build_generator(z_dim)\n",
    "    \n",
    "    # 주어진 레이블에 대한 이미지 생성\n",
    "    conditioned_img = generator(joined_representation)\n",
    "    \n",
    "    return Model([z, label], conditioned_img)"
   ]
  },
  {
   "cell_type": "markdown",
   "metadata": {},
   "source": [
    "# 판별자"
   ]
  },
  {
   "cell_type": "code",
   "execution_count": null,
   "metadata": {},
   "outputs": [],
   "source": [
    "def build_discriminator(img_shape):\n",
    "    model = Sequential()\n",
    "    \n",
    "    # 28 x 28 x 2 에서 14 x 14 x 64 로 바꾸는 합성곱 층\n",
    "    model.add(Conv2D(64, kernel_size=3, strides=2, input_shape=(img_shape[0], img_shape[1], img_shape[2]+1), padding='same'))\n",
    "    # LeakyReLU\n",
    "    model.add(LeakyReLU(alpha=0.01))\n",
    "    \n",
    "    # 14 x 14 x 64 에서 7 x 7 x 64 로 바꾸는 합성곱 층\n",
    "    model.add(Conv2D(64, kernel_szie=3, strides=2, padding='same'))  \n",
    "    # LeakyReLU\n",
    "    model.add(LeakyReLU(alpha=0.01))\n",
    "    \n",
    "    # 7 x 7 x 64 에서 3 x 3 x 128 로 바꾸는 합성곱 층\n",
    "    model.add(Conv2D(128, kernel_szie=3, strides=2, padding='same'))\n",
    "    # LeakyReLU\n",
    "    model.add(LeakyReLU(alpha=0.01))\n",
    "    \n",
    "    # 시그모이드 활성화 함수 = 출력층\n",
    "    model.add(Flatten())\n",
    "    model.add(Dense(1, activation='sigmoid'))\n",
    "    \n",
    "    return model"
   ]
  },
  {
   "cell_type": "code",
   "execution_count": null,
   "metadata": {},
   "outputs": [],
   "source": [
    "def build_cgan_discriminator(img_shape):\n",
    "    # 입력 이미지\n",
    "    img = Input(shape=img_shape)\n",
    "    \n",
    "    # 입력 이미지의 레이블\n",
    "    label = Input(shape=(1,), dtype='int32')\n",
    "    \n",
    "    # 레이블 임베딩: 레이블을 z_dim 크기의 밀집 벡터로 변환하고 (batch_size, 1, 28x28x1) 크기로 만든다.\n",
    "    label_embedding = Embedding(num_classes, np.prod(img_shape), input_length=1)(label)\n",
    "    \n",
    "    # 임베딩된 텐서를 펼쳐서 (batch_size, 28x28x1) 로 만든다\n",
    "    label_embedding = Flatten()(label_embedding)\n",
    "    \n",
    "    # 레이블 임베딩 크기를 입력 이미지 차원과 동일하게 만든다\n",
    "    label_embedding = Reshape(img_shape)(label_embedding)\n",
    "    \n",
    "    # 이미지와 레이블 임베딩 연결\n",
    "    concatenated = Concatenate(axis=1)([img, label_embedding])\n",
    "    \n",
    "    discriminator = build_discriminator(img_shape)\n",
    "    \n",
    "    # 이미지-레이블 쌍 분류\n",
    "    classification = discriminator(concatenated)\n",
    "    \n",
    "    return Model([img, label], classification)"
   ]
  },
  {
   "cell_type": "markdown",
   "metadata": {},
   "source": [
    "# 모델링"
   ]
  },
  {
   "cell_type": "code",
   "execution_count": null,
   "metadata": {},
   "outputs": [],
   "source": [
    "def build_cgan(generator, discriminator):\n",
    "    # 랜덤 잡음 벡터 z\n",
    "    z = Input(shape=(z_dim, ))\n",
    "    \n",
    "    # 이미지 레이블\n",
    "    label = Input(shape=(1,))\n",
    "    \n",
    "    # 레이블에 맞는 이미지 생성\n",
    "    img = generator([z, label])\n",
    "    \n",
    "    classification = discriminator([img, label])\n",
    "    \n",
    "    # 생성자 -> 판별자 연결 모델\n",
    "    # G([z, label]) = x*\n",
    "    # D(x*) = 분류\n",
    "    model = Model([z, label], classification)\n",
    "    \n",
    "    return model"
   ]
  },
  {
   "cell_type": "markdown",
   "metadata": {},
   "source": [
    "# 판별자 만들고 컴파일"
   ]
  },
  {
   "cell_type": "code",
   "execution_count": null,
   "metadata": {},
   "outputs": [],
   "source": [
    "discriminator = build_cgan_discriminator(img_shape)\n",
    "discriminator.compile(loss='binary_crossentropy', optimizer=Adam(learning_rate=1e-5), metrics=['accruacy'])"
   ]
  },
  {
   "cell_type": "markdown",
   "metadata": {},
   "source": [
    "# 생성자 만들고 훈련하는 동안 판별자 모델 고정"
   ]
  },
  {
   "cell_type": "code",
   "execution_count": null,
   "metadata": {},
   "outputs": [],
   "source": [
    "generator = build_cgan_generator(z_dim)\n",
    "discriminator.trainable = False"
   ]
  },
  {
   "cell_type": "markdown",
   "metadata": {},
   "source": [
    "# 생성자를 훈련하기 위해 고정된 판별자로 CGAN 모델 만들고 컴파일"
   ]
  },
  {
   "cell_type": "code",
   "execution_count": null,
   "metadata": {},
   "outputs": [],
   "source": [
    "cgan = build_cgan(generator, discriminator)\n",
    "cgan.compile(loss='binary_crossentropy', optimizer=Adam())"
   ]
  },
  {
   "cell_type": "markdown",
   "metadata": {},
   "source": [
    "# Let's train!"
   ]
  },
  {
   "cell_type": "code",
   "execution_count": null,
   "metadata": {},
   "outputs": [],
   "source": [
    "accuracies = []\n",
    "losses = []\n",
    "\n",
    "def train(iterations, batch_szie, sample_interval):\n",
    "    # MNIST dataset loading\n",
    "    X_train, y_train, _, _ = mnist.load_data()\n",
    "    \n",
    "    # scaling from [0,255] to [-1,1]\n",
    "    X_train = X_train/127.5 -1.\n",
    "    X_train = np.expand_dims(X_train, axis=3)\n",
    "    \n",
    "    # 진짜 이미지의 레이블: 모두 1\n",
    "    real = np.ones((batch_size, 1))\n",
    "    # 가짜 이미지의 레이블: 모두 0\n",
    "    fake = np.zeros((batch_size, 1))\n",
    "    \n",
    "    for iteration in range(iterations):\n",
    "        '''\n",
    "        판별자 훈련\n",
    "        '''\n",
    "        # 진짜 이미지와 레이블로 이루어진 랜덤 배치 얻음\n",
    "        idx = np.random.randint(0, X_train.shape[0], batch_size)\n",
    "        imgs, labels = X_train[idx], y_train[idx]\n",
    "        \n",
    "        # 가짜 이미지 배치 생성성 (0과 1 사이)\n",
    "        z = np.random.normal(0, 1, (batch_size, z_dim))\n",
    "        gen_imgs = generators.predict([z, labels])\n",
    "        \n",
    "        # 판별자 훈련\n",
    "        d_loss_real = discriminator.train_on_batch([imgs, labels], real)\n",
    "        d_loss_fake = discriminator.train_on_batch([gen_imgs, labels], fake)\n",
    "        d_loss = 0.5 * np.add(d_loss_real, d_loss_fake) # 0.5는 그냥 내 맘...\n",
    "        \n",
    "        '''\n",
    "        생성자 훈련\n",
    "        '''\n",
    "        \n",
    "        #랜덤 잡음 벡터 배치 생성\n",
    "        z = np.random.normal(0,1,(batch_size, z_dim))\n",
    "        \n",
    "        # 랜덤한 레이블의 배치\n",
    "        labels = np.random.randint(0, num_classes, batch_size).reshape(-1,1)\n",
    "        \n",
    "        # 생성자 훈련\n",
    "        g_loss = cgan.train_on_batch([z, labels], real)\n",
    "        \n",
    "        if (iteration + 1) % sample_interval == 0:\n",
    "            # 훈련 과정 출력 - 생략 가능\n",
    "            print(\"%d [D loss: %f, acc.: %.2f%%] [G loss: %f]\" %(iteration+1, d_loss[0], 100*d_loss[1], g_loss))\n",
    "            \n",
    "            # 훈련 후 그래프용 손실과 정확도\n",
    "            losses.append((d_loss[0], g_loss))\n",
    "            accuracies.append(100*d_loss[1])\n",
    "            \n",
    "            # 생성 이미지 출력 - 다음 셀에 정의\n",
    "            sample_images()"
   ]
  },
  {
   "cell_type": "code",
   "execution_count": null,
   "metadata": {},
   "outputs": [],
   "source": [
    "def sample_images(image_grid_rows=2, image_grid_columns=5):\n",
    "    # 랜덤 잡음 벡터 샘플링\n",
    "    z = np.random.normal(0,1,(image_grid_rows * image_grid_columns, z_dim))\n",
    "    \n",
    "    # 0-9 사이의 이미지 레이블\n",
    "    labels = np.arange(0, 10).reshape(-1,1)\n",
    "    \n",
    "    # z에서 이미지 생성\n",
    "    gen_imgs = generator.predict([z, labels])\n",
    "    \n",
    "    # 이미지 픽셀 값을 [0,1] 사이로 스케일링\n",
    "    gen_imgs = 0.5 * gen_imgs + 0.5\n",
    "    \n",
    "    # 이미지 그리드를 설정\n",
    "    fig, axs = plt.subplots(image_grid_rows, image_grid_columns, figszie=(10,4), sharey=True, sharex=True)\n",
    "    \n",
    "    cnt = 0\n",
    "    for i in range(image_grid_rows):\n",
    "        for j in range(image_grid_columns):\n",
    "            axs[i, j].imshow(gen_imgs[cnt, :, :, 0], cmap='gray')\n",
    "            axs[i, j].axis('off')\n",
    "            axs[i, j].set_title('Digit: %d' %labels[cnt])\n",
    "            cnt += 1"
   ]
  },
  {
   "cell_type": "markdown",
   "metadata": {},
   "source": [
    "# 훈련 과정 체크"
   ]
  },
  {
   "cell_type": "code",
   "execution_count": null,
   "metadata": {},
   "outputs": [],
   "source": [
    "iterations = 20000\n",
    "batch_size = 32\n",
    "sample_interval = 1000\n",
    "\n",
    "train(iterations, batch_szie, sample_interval)"
   ]
  },
  {
   "cell_type": "markdown",
   "metadata": {},
   "source": [
    "# 훈련된 CGAN 모델의 출력"
   ]
  },
  {
   "cell_type": "code",
   "execution_count": null,
   "metadata": {},
   "outputs": [],
   "source": [
    "# 그리드 차원을 설정합니다.\n",
    "image_grid_rows = 10\n",
    "image_grid_columns = 5\n",
    "\n",
    "# 랜덤한 잡음을 샘플링합니다.\n",
    "z = np.random.normal(0, 1, (image_grid_rows * image_grid_columns, z_dim))\n",
    "\n",
    "# 생성할 이미지 레이블을 5개씩 준비합니다.\n",
    "labels_to_generate = np.array([[i for j in range(5)] for i in range(10)])\n",
    "labels_to_generate = labels_to_generate.flatten().reshape(-1, 1)\n",
    "\n",
    "# 랜덤한 잡음에서 이미지를 생성합니다.\n",
    "gen_imgs = generator.predict([z, labels_to_generate])\n",
    "\n",
    "# 이미지 픽셀 값을 [0, 1] 사이로 스케일을 변환합니다.\n",
    "gen_imgs = 0.5 * gen_imgs + 0.5\n",
    "\n",
    "# 이미지 그리드를 설정합니다.\n",
    "fig, axs = plt.subplots(image_grid_rows,\n",
    "                        image_grid_columns,\n",
    "                        figsize=(10, 20),\n",
    "                        sharey=True,\n",
    "                        sharex=True)\n",
    "\n",
    "cnt = 0\n",
    "for i in range(image_grid_rows):\n",
    "    for j in range(image_grid_columns):\n",
    "        # 이미지 그리드를 출력합니다.\n",
    "        axs[i, j].imshow(gen_imgs[cnt, :, :, 0], cmap='gray')\n",
    "        axs[i, j].axis('off')\n",
    "        axs[i, j].set_title(\"Digit: %d\" % labels_to_generate[cnt])  ## NEW\n",
    "        cnt += 1"
   ]
  }
 ],
 "metadata": {
  "kernelspec": {
   "display_name": "Python 3",
   "language": "python",
   "name": "python3"
  },
  "language_info": {
   "codemirror_mode": {
    "name": "ipython",
    "version": 3
   },
   "file_extension": ".py",
   "mimetype": "text/x-python",
   "name": "python",
   "nbconvert_exporter": "python",
   "pygments_lexer": "ipython3",
   "version": "3.7.6"
  }
 },
 "nbformat": 4,
 "nbformat_minor": 4
}
