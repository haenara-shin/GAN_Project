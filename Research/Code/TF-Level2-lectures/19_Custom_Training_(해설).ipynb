{
  "nbformat": 4,
  "nbformat_minor": 0,
  "metadata": {
    "colab": {
      "name": "19-Custom Training (해설)",
      "provenance": [],
      "collapsed_sections": []
    },
    "kernelspec": {
      "name": "python3",
      "display_name": "Python 3"
    },
    "accelerator": "GPU"
  },
  "cells": [
    {
      "cell_type": "markdown",
      "metadata": {
        "id": "nuY4RBC888iA"
      },
      "source": [
        "## 데이터셋 로드"
      ]
    },
    {
      "cell_type": "code",
      "metadata": {
        "id": "lgpBVcnNGQr_"
      },
      "source": [
        "import tensorflow as tf\n",
        "from tensorflow.keras.layers import Dense, Flatten, Input\n",
        "from tensorflow.keras.models import Sequential, Model\n",
        "from tensorflow.keras.callbacks import ModelCheckpoint"
      ],
      "execution_count": null,
      "outputs": []
    },
    {
      "cell_type": "code",
      "metadata": {
        "id": "9KDaM3hzxfGC",
        "colab": {
          "base_uri": "https://localhost:8080/"
        },
        "outputId": "d1a70782-e7c4-46c5-b758-f10200241100"
      },
      "source": [
        "# 데이터셋 로드\n",
        "mnist = tf.keras.datasets.mnist\n",
        "(x_train, y_train), (x_valid, y_valid) = mnist.load_data()"
      ],
      "execution_count": null,
      "outputs": [
        {
          "output_type": "stream",
          "text": [
            "Downloading data from https://storage.googleapis.com/tensorflow/tf-keras-datasets/mnist.npz\n",
            "11493376/11490434 [==============================] - 0s 0us/step\n"
          ],
          "name": "stdout"
        }
      ]
    },
    {
      "cell_type": "code",
      "metadata": {
        "id": "dxidgyUU2cy4",
        "colab": {
          "base_uri": "https://localhost:8080/"
        },
        "outputId": "b2ebaed7-10be-476f-822d-12ad3d0a1662"
      },
      "source": [
        "x_train.shape, x_valid.shape"
      ],
      "execution_count": null,
      "outputs": [
        {
          "output_type": "execute_result",
          "data": {
            "text/plain": [
              "((60000, 28, 28), (10000, 28, 28))"
            ]
          },
          "metadata": {
            "tags": []
          },
          "execution_count": 3
        }
      ]
    },
    {
      "cell_type": "code",
      "metadata": {
        "id": "QfKv5fGd2fjv",
        "colab": {
          "base_uri": "https://localhost:8080/"
        },
        "outputId": "2501765a-4f08-4324-e101-b6cd0e1230d3"
      },
      "source": [
        "y_train.shape, y_valid.shape"
      ],
      "execution_count": null,
      "outputs": [
        {
          "output_type": "execute_result",
          "data": {
            "text/plain": [
              "((60000,), (10000,))"
            ]
          },
          "metadata": {
            "tags": []
          },
          "execution_count": 4
        }
      ]
    },
    {
      "cell_type": "markdown",
      "metadata": {
        "id": "6yQ8YpTixkue"
      },
      "source": [
        "## Sequential"
      ]
    },
    {
      "cell_type": "markdown",
      "metadata": {
        "id": "fdg-yC0J9B6E"
      },
      "source": [
        "(Flatten)           (None, 784)                \n",
        "_________________________________________________________________\n",
        "(Dense)             (None, 256)            \n",
        "_________________________________________________________________\n",
        "(Dense)             (None, 128)             \n",
        "_________________________________________________________________\n",
        "(Dense)             (None, 64)             \n",
        "_______________________________________________________________\n",
        "(Dense)             (None, 32)             \n",
        "_________________________________________________________________\n",
        "(Dense)             (None, 10)             "
      ]
    },
    {
      "cell_type": "code",
      "metadata": {
        "id": "jZXRh_2PxhHe"
      },
      "source": [
        "model = Sequential([\n",
        "    Flatten(input_shape=(28, 28)),\n",
        "    Dense(256, activation='relu'),\n",
        "    Dense(128, activation='relu'), \n",
        "    Dense(64, activation='relu'),\n",
        "    Dense(32, activation='relu'),\n",
        "    Dense(10, activation='softmax'),\n",
        "])"
      ],
      "execution_count": null,
      "outputs": []
    },
    {
      "cell_type": "code",
      "metadata": {
        "id": "_nu_8Hkxx4Oh",
        "colab": {
          "base_uri": "https://localhost:8080/"
        },
        "outputId": "aca38f0b-f5a9-4ec0-aaee-23ac58194882"
      },
      "source": [
        "model.summary()"
      ],
      "execution_count": null,
      "outputs": [
        {
          "output_type": "stream",
          "text": [
            "Model: \"sequential\"\n",
            "_________________________________________________________________\n",
            "Layer (type)                 Output Shape              Param #   \n",
            "=================================================================\n",
            "flatten (Flatten)            (None, 784)               0         \n",
            "_________________________________________________________________\n",
            "dense (Dense)                (None, 256)               200960    \n",
            "_________________________________________________________________\n",
            "dense_1 (Dense)              (None, 128)               32896     \n",
            "_________________________________________________________________\n",
            "dense_2 (Dense)              (None, 64)                8256      \n",
            "_________________________________________________________________\n",
            "dense_3 (Dense)              (None, 32)                2080      \n",
            "_________________________________________________________________\n",
            "dense_4 (Dense)              (None, 10)                330       \n",
            "=================================================================\n",
            "Total params: 244,522\n",
            "Trainable params: 244,522\n",
            "Non-trainable params: 0\n",
            "_________________________________________________________________\n"
          ],
          "name": "stdout"
        }
      ]
    },
    {
      "cell_type": "markdown",
      "metadata": {
        "id": "94eld9-Axqny"
      },
      "source": [
        "## 함수형 (Functional API)"
      ]
    },
    {
      "cell_type": "markdown",
      "metadata": {
        "id": "SI5FVLNu9OvT"
      },
      "source": [
        "(Flatten)           (None, 784)                \n",
        "_________________________________________________________________\n",
        "(Dense)             (None, 256)            \n",
        "_________________________________________________________________\n",
        "(Dense)             (None, 128)             \n",
        "_________________________________________________________________\n",
        "(Dense)             (None, 64)             \n",
        "_______________________________________________________________\n",
        "(Dense)             (None, 32)             \n",
        "_________________________________________________________________\n",
        "(Dense)             (None, 10)             "
      ]
    },
    {
      "cell_type": "code",
      "metadata": {
        "id": "vmdVUYCXxjba"
      },
      "source": [
        "input_ = Input(shape=(28, 28))\n",
        "x = Flatten()(input_)\n",
        "x = Dense(256, activation='relu')(x)\n",
        "x = Dense(128, activation='relu')(x)\n",
        "x = Dense(64, activation='relu')(x)\n",
        "x = Dense(32, activation='relu')(x)\n",
        "x = Dense(10, activation='softmax')(x)"
      ],
      "execution_count": null,
      "outputs": []
    },
    {
      "cell_type": "code",
      "metadata": {
        "id": "tVeX7ujoyQhR"
      },
      "source": [
        "model = Model(input_, x)"
      ],
      "execution_count": null,
      "outputs": []
    },
    {
      "cell_type": "code",
      "metadata": {
        "id": "OsOQjALgyXot",
        "colab": {
          "base_uri": "https://localhost:8080/"
        },
        "outputId": "82920938-35be-4fb8-9f1b-676a54150564"
      },
      "source": [
        "model.summary()"
      ],
      "execution_count": null,
      "outputs": [
        {
          "output_type": "stream",
          "text": [
            "Model: \"model\"\n",
            "_________________________________________________________________\n",
            "Layer (type)                 Output Shape              Param #   \n",
            "=================================================================\n",
            "input_1 (InputLayer)         [(None, 28, 28)]          0         \n",
            "_________________________________________________________________\n",
            "flatten_1 (Flatten)          (None, 784)               0         \n",
            "_________________________________________________________________\n",
            "dense_5 (Dense)              (None, 256)               200960    \n",
            "_________________________________________________________________\n",
            "dense_6 (Dense)              (None, 128)               32896     \n",
            "_________________________________________________________________\n",
            "dense_7 (Dense)              (None, 64)                8256      \n",
            "_________________________________________________________________\n",
            "dense_8 (Dense)              (None, 32)                2080      \n",
            "_________________________________________________________________\n",
            "dense_9 (Dense)              (None, 10)                330       \n",
            "=================================================================\n",
            "Total params: 244,522\n",
            "Trainable params: 244,522\n",
            "Non-trainable params: 0\n",
            "_________________________________________________________________\n"
          ],
          "name": "stdout"
        }
      ]
    },
    {
      "cell_type": "markdown",
      "metadata": {
        "id": "QbqFE24AyXg0"
      },
      "source": [
        "## Sub-Classing"
      ]
    },
    {
      "cell_type": "markdown",
      "metadata": {
        "id": "GJHslozi9jLV"
      },
      "source": [
        "(Flatten)           (None, 784)                \n",
        "_________________________________________________________________\n",
        "(Dense)             (None, 256)            \n",
        "_________________________________________________________________\n",
        "(Dense)             (None, 128)             \n",
        "_________________________________________________________________\n",
        "(Dense)             (None, 64)             \n",
        "_______________________________________________________________\n",
        "(Dense)             (None, 32)             \n",
        "_________________________________________________________________\n",
        "(Dense)             (None, 10)             "
      ]
    },
    {
      "cell_type": "code",
      "metadata": {
        "id": "egcyWUIRyXcM"
      },
      "source": [
        "class MyModel(Model):\n",
        "    def __init__(self):\n",
        "        super(MyModel, self).__init__()\n",
        "        self.flatten = Flatten()\n",
        "        self.dense1 = Dense(256, activation='relu')\n",
        "        self.dense2 = Dense(128, activation='relu')\n",
        "        self.dense3 = Dense(64, activation='relu')\n",
        "        self.dense4 = Dense(32, activation='relu')\n",
        "        self.dense5 = Dense(10, activation='softmax')\n",
        "\n",
        "    def call(self, x):\n",
        "        x = self.flatten(x)\n",
        "        x = self.dense1(x)\n",
        "        x = self.dense2(x)\n",
        "        x = self.dense3(x)\n",
        "        x = self.dense4(x)\n",
        "        x = self.dense5(x)\n",
        "        return x\n"
      ],
      "execution_count": null,
      "outputs": []
    },
    {
      "cell_type": "code",
      "metadata": {
        "id": "1Cm_Joyx2UOD",
        "colab": {
          "base_uri": "https://localhost:8080/"
        },
        "outputId": "727eacbb-cb95-4faf-d417-fe570047d21e"
      },
      "source": [
        "model = MyModel()\n",
        "model(input_)"
      ],
      "execution_count": null,
      "outputs": [
        {
          "output_type": "execute_result",
          "data": {
            "text/plain": [
              "<KerasTensor: shape=(None, 10) dtype=float32 (created by layer 'my_model')>"
            ]
          },
          "metadata": {
            "tags": []
          },
          "execution_count": 11
        }
      ]
    },
    {
      "cell_type": "code",
      "metadata": {
        "id": "RxbnP9gY2mH3",
        "colab": {
          "base_uri": "https://localhost:8080/"
        },
        "outputId": "8e8b0b6d-c64f-41b6-d546-1bb20ec257a2"
      },
      "source": [
        "model.summary()"
      ],
      "execution_count": null,
      "outputs": [
        {
          "output_type": "stream",
          "text": [
            "Model: \"my_model\"\n",
            "_________________________________________________________________\n",
            "Layer (type)                 Output Shape              Param #   \n",
            "=================================================================\n",
            "flatten_2 (Flatten)          multiple                  0         \n",
            "_________________________________________________________________\n",
            "dense_10 (Dense)             multiple                  200960    \n",
            "_________________________________________________________________\n",
            "dense_11 (Dense)             multiple                  32896     \n",
            "_________________________________________________________________\n",
            "dense_12 (Dense)             multiple                  8256      \n",
            "_________________________________________________________________\n",
            "dense_13 (Dense)             multiple                  2080      \n",
            "_________________________________________________________________\n",
            "dense_14 (Dense)             multiple                  330       \n",
            "=================================================================\n",
            "Total params: 244,522\n",
            "Trainable params: 244,522\n",
            "Non-trainable params: 0\n",
            "_________________________________________________________________\n"
          ],
          "name": "stdout"
        }
      ]
    },
    {
      "cell_type": "markdown",
      "metadata": {
        "id": "Vv6MUAgo7Z8H"
      },
      "source": [
        "## 데이터 셋 준비"
      ]
    },
    {
      "cell_type": "code",
      "metadata": {
        "id": "Aym2DumU7b7U"
      },
      "source": [
        "train_data = tf.data.Dataset.from_tensor_slices((x_train, y_train)).shuffle(1000).batch(32)\n",
        "valid_data = tf.data.Dataset.from_tensor_slices((x_valid, y_valid)).shuffle(1000).batch(32)"
      ],
      "execution_count": null,
      "outputs": []
    },
    {
      "cell_type": "markdown",
      "metadata": {
        "id": "xoJj_J7N3pkk"
      },
      "source": [
        "## 학습 방법 (Train)"
      ]
    },
    {
      "cell_type": "markdown",
      "metadata": {
        "id": "isNZhccT9nW7"
      },
      "source": [
        "### optimizer와 loss_function 정의"
      ]
    },
    {
      "cell_type": "code",
      "metadata": {
        "id": "U9jkM4bN5LEz"
      },
      "source": [
        "optimizer = tf.keras.optimizers.Adam()\n",
        "loss_function = tf.keras.losses.SparseCategoricalCrossentropy()"
      ],
      "execution_count": null,
      "outputs": []
    },
    {
      "cell_type": "markdown",
      "metadata": {
        "id": "Wkenbq8r9qVg"
      },
      "source": [
        "### (기록을 위한) Metric 정의"
      ]
    },
    {
      "cell_type": "code",
      "metadata": {
        "id": "Tn84h8TK4qg9"
      },
      "source": [
        "train_loss = tf.keras.metrics.Mean(name='train_loss')\n",
        "train_accuracy = tf.keras.metrics.SparseCategoricalAccuracy(name='train_accuracy')\n",
        "valid_loss = tf.keras.metrics.Mean(name='valid_loss')\n",
        "valid_accuracy = tf.keras.metrics.SparseCategoricalAccuracy(name='valid_accuracy')"
      ],
      "execution_count": null,
      "outputs": []
    },
    {
      "cell_type": "markdown",
      "metadata": {
        "id": "D0Fy8u3E9uLQ"
      },
      "source": [
        "### train_step 정의"
      ]
    },
    {
      "cell_type": "code",
      "metadata": {
        "id": "ucGb6xhC4WLN"
      },
      "source": [
        "@tf.function\n",
        "def train_step(images, labels):\n",
        "    # GradientTape 적용\n",
        "    with tf.GradientTape() as tape:\n",
        "        # 예측\n",
        "        prediction = model(images, training=True)\n",
        "        # 손실\n",
        "        loss = loss_function(labels, prediction)\n",
        "    # 미분 (gradient) 값 계산\n",
        "    gradients = tape.gradient(loss, model.trainable_variables)\n",
        "    # optimizer 적용\n",
        "    optimizer.apply_gradients(zip(gradients, model.trainable_variables))\n",
        "\n",
        "    # loss, accuracy 계산\n",
        "    train_loss(loss)\n",
        "    train_accuracy(labels, prediction)"
      ],
      "execution_count": null,
      "outputs": []
    },
    {
      "cell_type": "code",
      "metadata": {
        "id": "Q-JKg5Qj5Ehu"
      },
      "source": [
        "@tf.function\n",
        "def valid_step(images, labels):\n",
        "    # 예측\n",
        "    prediction = model(images, training=False)    \n",
        "    # 손실\n",
        "    loss = loss_function(labels, prediction)\n",
        "\n",
        "    # loss, accuracy 계산\n",
        "    valid_loss(loss)\n",
        "    valid_accuracy(labels, prediction)"
      ],
      "execution_count": null,
      "outputs": []
    },
    {
      "cell_type": "markdown",
      "metadata": {
        "id": "NTR6cVuG9wUQ"
      },
      "source": [
        "### 학습 (train)"
      ]
    },
    {
      "cell_type": "code",
      "metadata": {
        "id": "2MU-dxe35WjA",
        "colab": {
          "base_uri": "https://localhost:8080/"
        },
        "outputId": "42299c8a-e45e-4ccc-d3a5-0011ab3947e8"
      },
      "source": [
        "# 초기화 코드\n",
        "train_loss.reset_states()\n",
        "train_accuracy.reset_states()\n",
        "valid_loss.reset_states()\n",
        "valid_accuracy.reset_states()\n",
        "\n",
        "# Epoch 반복\n",
        "for epoch in range(10):\n",
        "    # batch 별 순회\n",
        "    for images, labels in train_data:\n",
        "        # train_step\n",
        "        train_step(images, labels)    \n",
        "\n",
        "    for images, labels in valid_data:\n",
        "        # valid_step\n",
        "        valid_step(images, labels)\n",
        "\n",
        "    # 로그 출력\n",
        "    template = 'epoch: {}, loss: {:.3f}, acc: {:.3f}, val_loss: {:.3f}, val_acc: {:.3f}'\n",
        "    print(template.format(epoch+1, train_loss.result(), train_accuracy.result()*100, valid_loss.result(), valid_accuracy.result()*100))"
      ],
      "execution_count": null,
      "outputs": [
        {
          "output_type": "stream",
          "text": [
            "epoch: 1, loss: 0.026, acc: 99.335, val_loss: 0.122, val_acc: 97.750\n",
            "epoch: 2, loss: 0.028, acc: 99.333, val_loss: 0.130, val_acc: 97.815\n",
            "epoch: 3, loss: 0.027, acc: 99.342, val_loss: 0.128, val_acc: 97.880\n",
            "epoch: 4, loss: 0.026, acc: 99.369, val_loss: 0.138, val_acc: 97.840\n",
            "epoch: 5, loss: 0.028, acc: 99.359, val_loss: 0.138, val_acc: 97.838\n",
            "epoch: 6, loss: 0.027, acc: 99.368, val_loss: 0.138, val_acc: 97.822\n",
            "epoch: 7, loss: 0.027, acc: 99.387, val_loss: 0.138, val_acc: 97.839\n",
            "epoch: 8, loss: 0.026, acc: 99.396, val_loss: 0.139, val_acc: 97.845\n",
            "epoch: 9, loss: 0.026, acc: 99.405, val_loss: 0.146, val_acc: 97.849\n",
            "epoch: 10, loss: 0.026, acc: 99.413, val_loss: 0.149, val_acc: 97.836\n"
          ],
          "name": "stdout"
        }
      ]
    },
    {
      "cell_type": "code",
      "metadata": {
        "id": "IIfraAWO5htt"
      },
      "source": [
        ""
      ],
      "execution_count": null,
      "outputs": []
    }
  ]
}