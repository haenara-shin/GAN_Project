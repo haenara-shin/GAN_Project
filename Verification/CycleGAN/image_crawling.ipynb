{
 "cells": [
  {
   "cell_type": "code",
   "execution_count": 1,
   "metadata": {},
   "outputs": [
    {
     "name": "stdout",
     "output_type": "stream",
     "text": [
      "Collecting bing-image-downloader\n",
      "  Downloading bing_image_downloader-1.1.1-py3-none-any.whl (5.7 kB)\n",
      "Installing collected packages: bing-image-downloader\n",
      "Successfully installed bing-image-downloader-1.1.1\n",
      "Note: you may need to restart the kernel to use updated packages.\n"
     ]
    }
   ],
   "source": [
    "pip install bing-image-downloader"
   ]
  },
  {
   "cell_type": "code",
   "execution_count": 1,
   "metadata": {},
   "outputs": [
    {
     "name": "stdout",
     "output_type": "stream",
     "text": [
      "C:\\Users\\백지윤\\Desktop\n"
     ]
    }
   ],
   "source": [
    "cd ~/Desktop"
   ]
  },
  {
   "cell_type": "code",
   "execution_count": null,
   "metadata": {},
   "outputs": [],
   "source": [
    "from bing_image_downloader import downloader\n",
    "downloader.download('animal crossing', limit=1000,  \n",
    "                    output_dir='./ac', adult_filter_off=True, force_replace=False, timeout=60, verbose=True)"
   ]
  },
  {
   "cell_type": "code",
   "execution_count": 10,
   "metadata": {},
   "outputs": [
    {
     "name": "stdout",
     "output_type": "stream",
     "text": [
      "Collecting icrawlerNote: you may need to restart the kernel to use updated packages.\n",
      "  Downloading icrawler-0.6.4.tar.gz (26 kB)\n",
      "Requirement already satisfied: beautifulsoup4>=4.4.1 in c:\\temp\\anaconda\\lib\\site-packages (from icrawler) (4.9.3)\n",
      "Requirement already satisfied: lxml in c:\\temp\\anaconda\\lib\\site-packages (from icrawler) (4.6.1)\n",
      "Requirement already satisfied: requests>=2.9.1 in c:\\temp\\anaconda\\lib\\site-packages (from icrawler) (2.24.0)\n",
      "Requirement already satisfied: six>=1.10.0 in c:\\temp\\anaconda\\lib\\site-packages (from icrawler) (1.15.0)\n",
      "Requirement already satisfied: Pillow in c:\\temp\\anaconda\\lib\\site-packages (from icrawler) (8.0.1)\n",
      "Requirement already satisfied: soupsieve>1.2; python_version >= \"3.0\" in c:\\temp\\anaconda\\lib\\site-packages (from beautifulsoup4>=4.4.1->icrawler) (2.0.1)\n",
      "Requirement already satisfied: idna<3,>=2.5 in c:\\temp\\anaconda\\lib\\site-packages (from requests>=2.9.1->icrawler) (2.10)\n",
      "Requirement already satisfied: certifi>=2017.4.17 in c:\\temp\\anaconda\\lib\\site-packages (from requests>=2.9.1->icrawler) (2020.6.20)\n",
      "Requirement already satisfied: urllib3!=1.25.0,!=1.25.1,<1.26,>=1.21.1 in c:\\temp\\anaconda\\lib\\site-packages (from requests>=2.9.1->icrawler) (1.25.11)\n",
      "Requirement already satisfied: chardet<4,>=3.0.2 in c:\\temp\\anaconda\\lib\\site-packages (from requests>=2.9.1->icrawler) (3.0.4)\n",
      "Building wheels for collected packages: icrawler\n",
      "  Building wheel for icrawler (setup.py): started\n",
      "  Building wheel for icrawler (setup.py): finished with status 'done'\n",
      "  Created wheel for icrawler: filename=icrawler-0.6.4-py2.py3-none-any.whl size=35068 sha256=41719efa48e82a9d4e747ba2a9304681c7c24f2d2020b09ae1d7893bf6d48f0e\n",
      "  Stored in directory: c:\\users\\백지윤\\appdata\\local\\pip\\cache\\wheels\\5b\\a5\\50\\db28e1726fdc127cb6c5a757a4350af44a32b4e5d2c5d45dac\n",
      "Successfully built icrawler\n",
      "Installing collected packages: icrawler\n",
      "Successfully installed icrawler-0.6.4\n",
      "\n"
     ]
    }
   ],
   "source": [
    "pip install icrawler"
   ]
  },
  {
   "cell_type": "code",
   "execution_count": 11,
   "metadata": {},
   "outputs": [],
   "source": [
    "from icrawler.builtin import BaiduImageCrawler, BingImageCrawler, GoogleImageCrawler\n",
    "\n",
    "google_crawler = GoogleImageCrawler(\n",
    "    feeder_threads=1,\n",
    "    parser_threads=1,\n",
    "    downloader_threads=4,\n",
    "    storage={'root_dir': './3d_ls'})"
   ]
  },
  {
   "cell_type": "code",
   "execution_count": 17,
   "metadata": {},
   "outputs": [],
   "source": [
    "filters = dict(\n",
    "    size='medium',\n",
    "    color='color',\n",
    "    license='noncommercial',\n",
    "    date=((2017, 1, 1), (2021, 6, 25)),type=\"animated\")"
   ]
  },
  {
   "cell_type": "code",
   "execution_count": 18,
   "metadata": {},
   "outputs": [],
   "source": [
    "google_crawler.crawl(keyword='baby yorkshire', filters=filters, offset=0, max_num=1000,\n",
    "                     min_size=(200,200), max_size=None, file_idx_offset=0)\n"
   ]
  },
  {
   "cell_type": "code",
   "execution_count": null,
   "metadata": {},
   "outputs": [],
   "source": []
  }
 ],
 "metadata": {
  "kernelspec": {
   "display_name": "Python 3",
   "language": "python",
   "name": "python3"
  },
  "language_info": {
   "codemirror_mode": {
    "name": "ipython",
    "version": 3
   },
   "file_extension": ".py",
   "mimetype": "text/x-python",
   "name": "python",
   "nbconvert_exporter": "python",
   "pygments_lexer": "ipython3",
   "version": "3.8.5"
  }
 },
 "nbformat": 4,
 "nbformat_minor": 4
}
