{
  "nbformat": 4,
  "nbformat_minor": 0,
  "metadata": {
    "colab": {
      "name": "Untitled4.ipynb",
      "provenance": []
    },
    "kernelspec": {
      "name": "python3",
      "display_name": "Python 3"
    },
    "language_info": {
      "name": "python"
    },
    "accelerator": "GPU"
  },
  "cells": [
    {
      "cell_type": "code",
      "metadata": {
        "colab": {
          "base_uri": "https://localhost:8080/"
        },
        "id": "GZWEdQCUJlg5",
        "outputId": "b118f355-5777-44ce-8eb6-dc5c0bd308e9"
      },
      "source": [
        "!git clone https://github.com/sw-song/stylegan2-ada-pytorch.git\n",
        "\n",
        "# wee need this package in colab\n",
        "!pip install ninja\n",
        "\n",
        "# move to the folder that we cloned\n",
        "%cd stylegan2-ada-pytorch/ "
      ],
      "execution_count": 1,
      "outputs": [
        {
          "output_type": "stream",
          "text": [
            "Cloning into 'stylegan2-ada-pytorch'...\n",
            "remote: Enumerating objects: 155, done.\u001b[K\n",
            "remote: Counting objects: 100% (30/30), done.\u001b[K\n",
            "remote: Compressing objects: 100% (21/21), done.\u001b[K\n",
            "remote: Total 155 (delta 18), reused 21 (delta 9), pack-reused 125\u001b[K\n",
            "Receiving objects: 100% (155/155), 1.14 MiB | 20.42 MiB/s, done.\n",
            "Resolving deltas: 100% (73/73), done.\n",
            "Collecting ninja\n",
            "\u001b[?25l  Downloading https://files.pythonhosted.org/packages/1d/de/393468f2a37fc2c1dc3a06afc37775e27fde2d16845424141d4da62c686d/ninja-1.10.0.post2-py3-none-manylinux1_x86_64.whl (107kB)\n",
            "\u001b[K     |████████████████████████████████| 112kB 7.3MB/s \n",
            "\u001b[?25hInstalling collected packages: ninja\n",
            "Successfully installed ninja-1.10.0.post2\n",
            "/content/stylegan2-ada-pytorch\n"
          ],
          "name": "stdout"
        }
      ]
    },
    {
      "cell_type": "code",
      "metadata": {
        "colab": {
          "base_uri": "https://localhost:8080/"
        },
        "id": "of3Th4NdJyvy",
        "outputId": "ffa4ddf0-db3d-47e5-83d7-dc4486bb52c0"
      },
      "source": [
        "# before run, Upload 3 images(sample A,B and target) to the current path before running the file.\n",
        "\n",
        "# run python command\n",
        "!python conversion.py --sample_before 'sample_before.jpg' --sample_after 'sample_after.jpg' --target_before 'target_before.jpg' --target_after 'target_after.jpg' --network 'https://nvlabs-fi-cdn.nvidia.com/stylegan2-ada-pytorch/pretrained/afhqdog.pkl'"
      ],
      "execution_count": 2,
      "outputs": [
        {
          "output_type": "stream",
          "text": [
            "Downloading https://nvlabs-fi-cdn.nvidia.com/stylegan2-ada-pytorch/pretrained/afhqdog.pkl ... done\n",
            "Setting up PyTorch plugin \"bias_act_plugin\"... Done.\n",
            "Setting up PyTorch plugin \"upfirdn2d_plugin\"... Done.\n",
            "Downloading https://nvlabs-fi-cdn.nvidia.com/stylegan2-ada-pytorch/pretrained/metrics/vgg16.pt ... done\n",
            "/usr/local/lib/python3.7/dist-packages/torch/nn/modules/module.py:1051: UserWarning: Named tensors and all their associated APIs are an experimental feature and subject to change. Please do not use them for anything important until they are released as stable. (Triggered internally at  /pytorch/c10/core/TensorImpl.h:1156.)\n",
            "  return forward_call(*input, **kwargs)\n",
            "[Type-SB(Sample|Before)] projection start - Reproducing the image.. \n",
            "step  100/1000: dist 0.40 loss 8.34 \n",
            "step  200/1000: dist 0.36 loss 5.96 \n",
            "step  300/1000: dist 0.32 loss 19.87\n",
            "step  400/1000: dist 0.30 loss 13.46\n",
            "step  500/1000: dist 0.28 loss 3.09 \n",
            "step  600/1000: dist 0.26 loss 7.05 \n",
            "step  700/1000: dist 0.25 loss 8.12 \n",
            "step  800/1000: dist 0.25 loss 0.81 \n",
            "step  900/1000: dist 0.24 loss 0.24 \n",
            "projection clear\n",
            "[Type-SA(Sample|After)] projection start - Reproducing the image.. \n",
            "step  100/1000: dist 0.37 loss 2.94 \n",
            "step  200/1000: dist 0.33 loss 14.25\n",
            "step  300/1000: dist 0.32 loss 1.78 \n",
            "step  400/1000: dist 0.26 loss 3.22 \n",
            "step  500/1000: dist 0.24 loss 0.76 \n",
            "step  600/1000: dist 0.23 loss 5.92 \n",
            "step  700/1000: dist 0.22 loss 3.07 \n",
            "step  800/1000: dist 0.22 loss 0.59 \n",
            "step  900/1000: dist 0.21 loss 0.21 \n",
            "projection clear\n",
            "[Type-TB(Target|Before)] projection start - Reproducing the image.. \n",
            "step  100/1000: dist 0.36 loss 8.51 \n",
            "step  200/1000: dist 0.32 loss 6.76 \n",
            "step  300/1000: dist 0.29 loss 9.65 \n",
            "step  400/1000: dist 0.27 loss 8.01 \n",
            "step  500/1000: dist 0.25 loss 13.47\n",
            "step  600/1000: dist 0.24 loss 4.48 \n",
            "step  700/1000: dist 0.23 loss 13.26\n",
            "step  800/1000: dist 0.22 loss 0.40 \n",
            "step  900/1000: dist 0.22 loss 0.22 \n",
            "projection clear\n",
            "Finished creating a new image with the style(W) applied\n"
          ],
          "name": "stdout"
        }
      ]
    }
  ]
}