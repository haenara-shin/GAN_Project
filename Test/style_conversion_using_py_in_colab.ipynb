{
  "nbformat": 4,
  "nbformat_minor": 0,
  "metadata": {
    "colab": {
      "name": "Untitled3.ipynb",
      "provenance": []
    },
    "kernelspec": {
      "name": "python3",
      "display_name": "Python 3"
    },
    "language_info": {
      "name": "python"
    },
    "accelerator": "GPU"
  },
  "cells": [
    {
      "cell_type": "code",
      "metadata": {
        "colab": {
          "base_uri": "https://localhost:8080/"
        },
        "id": "z5_oC6GWG5o1",
        "outputId": "ca68827f-0705-4eb8-f2a5-540fe5a5b0d5"
      },
      "source": [
        "!git clone https://github.com/sw-song/stylegan2-ada-pytorch.git"
      ],
      "execution_count": 1,
      "outputs": [
        {
          "output_type": "stream",
          "text": [
            "Cloning into 'stylegan2-ada-pytorch'...\n",
            "remote: Enumerating objects: 135, done.\u001b[K\n",
            "remote: Counting objects: 100% (10/10), done.\u001b[K\n",
            "remote: Compressing objects: 100% (8/8), done.\u001b[K\n",
            "remote: Total 135 (delta 4), reused 7 (delta 2), pack-reused 125\u001b[K\n",
            "Receiving objects: 100% (135/135), 1.13 MiB | 22.35 MiB/s, done.\n",
            "Resolving deltas: 100% (59/59), done.\n"
          ],
          "name": "stdout"
        }
      ]
    },
    {
      "cell_type": "code",
      "metadata": {
        "colab": {
          "base_uri": "https://localhost:8080/"
        },
        "id": "-uWArTtyHEbd",
        "outputId": "26767088-b05e-4023-b8a2-540ced10c384"
      },
      "source": [
        "!pip install ninja"
      ],
      "execution_count": 2,
      "outputs": [
        {
          "output_type": "stream",
          "text": [
            "Collecting ninja\n",
            "\u001b[?25l  Downloading https://files.pythonhosted.org/packages/1d/de/393468f2a37fc2c1dc3a06afc37775e27fde2d16845424141d4da62c686d/ninja-1.10.0.post2-py3-none-manylinux1_x86_64.whl (107kB)\n",
            "\r\u001b[K     |███                             | 10kB 22.2MB/s eta 0:00:01\r\u001b[K     |██████                          | 20kB 23.4MB/s eta 0:00:01\r\u001b[K     |█████████▏                      | 30kB 18.0MB/s eta 0:00:01\r\u001b[K     |████████████▏                   | 40kB 15.8MB/s eta 0:00:01\r\u001b[K     |███████████████▎                | 51kB 8.9MB/s eta 0:00:01\r\u001b[K     |██████████████████▎             | 61kB 8.2MB/s eta 0:00:01\r\u001b[K     |█████████████████████▍          | 71kB 9.2MB/s eta 0:00:01\r\u001b[K     |████████████████████████▍       | 81kB 9.7MB/s eta 0:00:01\r\u001b[K     |███████████████████████████▍    | 92kB 10.0MB/s eta 0:00:01\r\u001b[K     |██████████████████████████████▌ | 102kB 8.2MB/s eta 0:00:01\r\u001b[K     |████████████████████████████████| 112kB 8.2MB/s \n",
            "\u001b[?25hInstalling collected packages: ninja\n",
            "Successfully installed ninja-1.10.0.post2\n"
          ],
          "name": "stdout"
        }
      ]
    },
    {
      "cell_type": "code",
      "metadata": {
        "colab": {
          "base_uri": "https://localhost:8080/"
        },
        "id": "OvTGV44kHKZP",
        "outputId": "a2f6c5b0-1065-4870-fbdf-54a196982409"
      },
      "source": [
        "%cd stylegan2-ada-pytorch/"
      ],
      "execution_count": 3,
      "outputs": [
        {
          "output_type": "stream",
          "text": [
            "/content/stylegan2-ada-pytorch\n"
          ],
          "name": "stdout"
        }
      ]
    },
    {
      "cell_type": "code",
      "metadata": {
        "colab": {
          "base_uri": "https://localhost:8080/"
        },
        "id": "iLm-_0kwHYSr",
        "outputId": "5f8ef125-78fc-4766-ba5c-ae66e406c1ca"
      },
      "source": [
        "!python custom.py --sample_before 'sample_before.png' --sample_after 'sample_after.png' --target_before 'target_before.png' --target_after 'target_after.png'\n"
      ],
      "execution_count": 5,
      "outputs": [
        {
          "output_type": "stream",
          "text": [
            "Downloading https://nvlabs-fi-cdn.nvidia.com/stylegan2-ada-pytorch/pretrained/afhqdog.pkl ... done\n",
            "Setting up PyTorch plugin \"bias_act_plugin\"... Done.\n",
            "Setting up PyTorch plugin \"upfirdn2d_plugin\"... Done.\n",
            "Downloading https://nvlabs-fi-cdn.nvidia.com/stylegan2-ada-pytorch/pretrained/metrics/vgg16.pt ... done\n",
            "/usr/local/lib/python3.7/dist-packages/torch/nn/modules/module.py:1051: UserWarning: Named tensors and all their associated APIs are an experimental feature and subject to change. Please do not use them for anything important until they are released as stable. (Triggered internally at  /pytorch/c10/core/TensorImpl.h:1156.)\n",
            "  return forward_call(*input, **kwargs)\n",
            "  0% 0/1000 [00:00<?, ?it/s][Type-SB(Sample|Before)] projection start - Reproducing the image.. \n",
            " 10% 99/1000 [00:10<01:32,  9.75it/s]step  100/1000: dist 0.27 loss 4.22 \n",
            " 20% 199/1000 [00:20<01:21,  9.81it/s]step  200/1000: dist 0.26 loss 18.83\n",
            " 30% 299/1000 [00:30<01:12,  9.66it/s]step  300/1000: dist 0.21 loss 18.92\n",
            " 40% 399/1000 [00:40<01:02,  9.58it/s]step  400/1000: dist 0.17 loss 3.83 \n",
            " 50% 499/1000 [00:51<00:52,  9.60it/s]step  500/1000: dist 0.15 loss 4.22 \n",
            " 60% 599/1000 [01:01<00:41,  9.59it/s]step  600/1000: dist 0.15 loss 3.18 \n",
            " 70% 699/1000 [01:12<00:31,  9.41it/s]step  700/1000: dist 0.14 loss 21.14\n",
            " 80% 799/1000 [01:22<00:21,  9.44it/s]step  800/1000: dist 0.14 loss 0.66 \n",
            " 90% 899/1000 [01:33<00:10,  9.36it/s]step  900/1000: dist 0.13 loss 0.13 \n",
            "100% 999/1000 [01:44<00:00,  9.42it/s]projection clear\n",
            "100% 1000/1000 [01:44<00:00,  9.60it/s]\n",
            "  0% 0/1000 [00:00<?, ?it/s][Type-SA(Sample|After)] projection start - Reproducing the image.. \n",
            " 10% 99/1000 [00:10<01:37,  9.28it/s]step  100/1000: dist 0.26 loss 5.09 \n",
            " 20% 199/1000 [00:21<01:27,  9.19it/s]step  200/1000: dist 0.21 loss 3.34 \n",
            " 30% 299/1000 [00:32<01:17,  9.09it/s]step  300/1000: dist 0.18 loss 4.56 \n",
            " 40% 399/1000 [00:42<01:04,  9.28it/s]step  400/1000: dist 0.16 loss 16.29\n",
            " 50% 499/1000 [00:53<00:54,  9.14it/s]step  500/1000: dist 0.15 loss 4.58 \n",
            " 60% 599/1000 [01:04<00:43,  9.27it/s]step  600/1000: dist 0.14 loss 4.11 \n",
            " 70% 699/1000 [01:15<00:32,  9.34it/s]step  700/1000: dist 0.13 loss 0.51 \n",
            " 80% 799/1000 [01:25<00:21,  9.33it/s]step  800/1000: dist 0.13 loss 0.56 \n",
            " 90% 899/1000 [01:36<00:10,  9.30it/s]step  900/1000: dist 0.12 loss 0.12 \n",
            "100% 999/1000 [01:47<00:00,  9.22it/s]projection clear\n",
            "100% 1000/1000 [01:47<00:00,  9.31it/s]\n",
            "  0% 0/1000 [00:00<?, ?it/s][Type-TB(Target|Before)] projection start - Reproducing the image.. \n",
            " 10% 99/1000 [00:10<01:36,  9.36it/s]step  100/1000: dist 0.29 loss 20.05\n",
            " 20% 199/1000 [00:21<01:26,  9.30it/s]step  200/1000: dist 0.23 loss 12.83\n",
            " 30% 299/1000 [00:32<01:16,  9.16it/s]step  300/1000: dist 0.22 loss 26.59\n",
            " 40% 399/1000 [00:42<01:04,  9.33it/s]step  400/1000: dist 0.20 loss 14.17\n",
            " 50% 499/1000 [00:53<00:53,  9.29it/s]step  500/1000: dist 0.17 loss 3.22 \n",
            " 60% 599/1000 [01:04<00:43,  9.22it/s]step  600/1000: dist 0.17 loss 2.10 \n",
            " 70% 699/1000 [01:15<00:32,  9.35it/s]step  700/1000: dist 0.16 loss 6.10 \n",
            " 80% 799/1000 [01:26<00:21,  9.37it/s]step  800/1000: dist 0.15 loss 0.17 \n",
            " 90% 899/1000 [01:36<00:10,  9.30it/s]step  900/1000: dist 0.15 loss 0.15 \n",
            "100% 999/1000 [01:47<00:00,  9.32it/s]projection clear\n",
            "100% 1000/1000 [01:47<00:00,  9.29it/s]\n",
            "Finished creating a new image with the style(W) applied\n"
          ],
          "name": "stdout"
        }
      ]
    },
    {
      "cell_type": "code",
      "metadata": {
        "id": "jQdfln7LHmOk"
      },
      "source": [
        ""
      ],
      "execution_count": null,
      "outputs": []
    }
  ]
}